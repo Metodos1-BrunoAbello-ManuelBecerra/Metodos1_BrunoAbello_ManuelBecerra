{
 "cells": [
  {
   "cell_type": "code",
   "execution_count": 41,
   "metadata": {},
   "outputs": [],
   "source": [
    "import numpy as np\n",
    "import sympy as sym\n",
    "from scipy import integrate"
   ]
  },
  {
   "cell_type": "code",
   "execution_count": 43,
   "metadata": {},
   "outputs": [],
   "source": [
    "n = 100\n",
    "x = sym.Symbol('x', real = True)\n",
    "h = sym.Symbol('h', real = True)"
   ]
  },
  {
   "cell_type": "code",
   "execution_count": 44,
   "metadata": {},
   "outputs": [],
   "source": [
    "def funcion(x, limsup):\n",
    "    return (x * (x-limsup/3) * (x- 2*limsup/3) * (x- 3*limsup))\n",
    "f = lambda x: x * (x-h/3) * (x- 2*h/3) * (x- 3*h)"
   ]
  },
  {
   "cell_type": "code",
   "execution_count": 45,
   "metadata": {},
   "outputs": [],
   "source": [
    "def Derivada(funcion, x, h):\n",
    "    d = funcion(x + 2*h, h) - 4*funcion(x + h, h) + 6*funcion(x, h) - 4*funcion(x - h, h) + funcion(x - 2*h, h)\n",
    "    d /= h**4\n",
    "    return d"
   ]
  },
  {
   "cell_type": "code",
   "execution_count": 49,
   "metadata": {},
   "outputs": [
    {
     "name": "stdout",
     "output_type": "stream",
     "text": [
      "x*(-3*h + x)*(-2*h/3 + x)*(-h/3 + x)\n"
     ]
    },
    {
     "ename": "AttributeError",
     "evalue": "module 'sympy' has no attribute 'Integrate'",
     "output_type": "error",
     "traceback": [
      "\u001b[0;31m---------------------------------------------------------------------------\u001b[0m",
      "\u001b[0;31mAttributeError\u001b[0m                            Traceback (most recent call last)",
      "Cell \u001b[0;32mIn[49], line 2\u001b[0m\n\u001b[1;32m      1\u001b[0m \u001b[39mprint\u001b[39m (f(x))\n\u001b[0;32m----> 2\u001b[0m Ie \u001b[39m=\u001b[39m sym\u001b[39m.\u001b[39;49mIntegrate(f(x), x)\n",
      "\u001b[0;31mAttributeError\u001b[0m: module 'sympy' has no attribute 'Integrate'"
     ]
    }
   ],
   "source": [
    "print (f(x))\n",
    "Ie = integrate.simpson(f(x), x)"
   ]
  },
  {
   "cell_type": "code",
   "execution_count": null,
   "metadata": {},
   "outputs": [
    {
     "name": "stdout",
     "output_type": "stream",
     "text": [
      "2.62883928598967e-5 [-2.95744419e-07 -2.95744419e-07 -2.95744419e-07 -2.95744419e-07\n",
      " -2.95744419e-07 -2.95744419e-07 -2.95744419e-07 -2.95744419e-07\n",
      " -2.95744419e-07 -2.95744419e-07 -2.95744419e-07 -2.95744419e-07\n",
      " -2.95744419e-07 -2.95744419e-07 -2.95744419e-07 -2.95744419e-07\n",
      " -2.95744419e-07 -2.95744419e-07 -2.95744419e-07 -2.95744419e-07\n",
      " -2.95744419e-07 -2.95744419e-07 -2.95744419e-07 -2.95744419e-07\n",
      " -2.95744419e-07 -2.95744419e-07 -2.95744419e-07 -2.95744419e-07\n",
      " -2.95744419e-07 -2.95744419e-07 -2.95744419e-07 -2.95744419e-07\n",
      " -2.95744419e-07 -2.95744419e-07 -2.95744419e-07 -2.95744419e-07\n",
      " -2.95744419e-07 -2.95744419e-07 -2.95744419e-07 -2.95744419e-07\n",
      " -2.95744419e-07 -2.95744419e-07 -2.95744419e-07 -2.95744419e-07\n",
      " -2.95744419e-07 -2.95744419e-07 -2.95744419e-07 -2.95744419e-07\n",
      " -2.95744419e-07 -2.95744419e-07 -2.95744419e-07 -2.95744419e-07\n",
      " -2.95744419e-07 -2.95744419e-07 -2.95744419e-07 -2.95744419e-07\n",
      " -2.95744419e-07 -2.95744419e-07 -2.95744419e-07 -2.95744419e-07\n",
      " -2.95744419e-07 -2.95744419e-07 -2.95744419e-07 -2.95744419e-07\n",
      " -2.95744419e-07 -2.95744419e-07 -2.95744419e-07 -2.95744419e-07\n",
      " -2.95744419e-07 -2.95744419e-07 -2.95744420e-07 -2.95744420e-07\n",
      " -2.95744419e-07 -2.95744419e-07 -2.95744419e-07 -2.95744419e-07\n",
      " -2.95744419e-07 -2.95744419e-07 -2.95744420e-07 -2.95744420e-07\n",
      " -2.95744420e-07 -2.95744420e-07 -2.95744419e-07 -2.95744419e-07\n",
      " -2.95744419e-07 -2.95744420e-07 -2.95744419e-07 -2.95744419e-07\n",
      " -2.95744419e-07 -2.95744419e-07 -2.95744419e-07 -2.95744420e-07\n",
      " -2.95744419e-07 -2.95744420e-07 -2.95744419e-07 -2.95744420e-07\n",
      " -2.95744418e-07 -2.95744420e-07 -2.95744419e-07 -2.95744418e-07]\n"
     ]
    }
   ],
   "source": [
    "Error_absoluto = sym.Abs(Ie-simpson_tres_octavos(funcion,x, h))\n",
    "Error_calculado = Error(Derivada(funcion, x, limsup), limsup, x)\n",
    "print(Error_absoluto, Error_calculado)"
   ]
  }
 ],
 "metadata": {
  "kernelspec": {
   "display_name": "Python 3",
   "language": "python",
   "name": "python3"
  },
  "language_info": {
   "codemirror_mode": {
    "name": "ipython",
    "version": 3
   },
   "file_extension": ".py",
   "mimetype": "text/x-python",
   "name": "python",
   "nbconvert_exporter": "python",
   "pygments_lexer": "ipython3",
   "version": "3.9.0"
  },
  "orig_nbformat": 4,
  "vscode": {
   "interpreter": {
    "hash": "aee8b7b246df8f9039afb4144a1f6fd8d2ca17a180786b69acc140d282b71a49"
   }
  }
 },
 "nbformat": 4,
 "nbformat_minor": 2
}

{
 "cells": [
  {
   "cell_type": "code",
   "execution_count": 22,
   "metadata": {},
   "outputs": [],
   "source": [
    "import numpy as np\n",
    "import sympy as sym"
   ]
  },
  {
   "cell_type": "code",
   "execution_count": 23,
   "metadata": {},
   "outputs": [],
   "source": [
    "n = 20\n",
    "x = sym.Symbol('x', real = True)\n",
    "y = sym.Symbol('y',real=True)"
   ]
  },
  {
   "cell_type": "code",
   "execution_count": 24,
   "metadata": {},
   "outputs": [],
   "source": [
    "def GetNewton(f,df,xn,itmax=10000,precision=1e-14):\n",
    "    \n",
    "    error = 1.\n",
    "    it = 0\n",
    "    \n",
    "    while error >= precision and it < itmax:\n",
    "        \n",
    "        try:\n",
    "            \n",
    "            xn1 = xn - f(xn)/df(xn)\n",
    "            \n",
    "            error = np.abs(f(xn)/df(xn))\n",
    "            \n",
    "        except ZeroDivisionError:\n",
    "            print('Zero Division')\n",
    "            \n",
    "        xn = xn1\n",
    "        it += 1\n",
    "        \n",
    "    if it == itmax:\n",
    "        return False\n",
    "    else:\n",
    "        return xn"
   ]
  },
  {
   "cell_type": "code",
   "execution_count": 25,
   "metadata": {},
   "outputs": [],
   "source": [
    "def GetRoots(f,df,x,tolerancia = 10):\n",
    "    \n",
    "    Roots = np.array([])\n",
    "    \n",
    "    for i in x:\n",
    "        \n",
    "        root = GetNewton(f,df,i)\n",
    "\n",
    "        if  type(root)!=bool:\n",
    "            croot = np.round( root, tolerancia )\n",
    "            \n",
    "            if croot not in Roots:\n",
    "                Roots = np.append(Roots, croot)\n",
    "                \n",
    "    Roots.sort()\n",
    "    \n",
    "    return Roots"
   ]
  },
  {
   "cell_type": "code",
   "execution_count": 26,
   "metadata": {},
   "outputs": [],
   "source": [
    "def GetLaguerre(n, x):\n",
    "    if n == 0:\n",
    "        poly = sym.Number(1)\n",
    "    elif n==1:\n",
    "        poly = 1-x\n",
    "    else:\n",
    "        poly = ((2*(n-1)+1-x)*GetLaguerre(n-1,x)-(n-1)*GetLaguerre(n-2,x))/n\n",
    "    return sym.expand(poly,x)"
   ]
  },
  {
   "cell_type": "code",
   "execution_count": 27,
   "metadata": {},
   "outputs": [],
   "source": [
    "def GetDLaguerre(n,x):\n",
    "    Pn = GetLaguerre(n,x)\n",
    "    return sym.diff(Pn,x,1)"
   ]
  },
  {
   "cell_type": "code",
   "execution_count": 28,
   "metadata": {},
   "outputs": [],
   "source": [
    "def GetAllRootsGLag (n):\n",
    "    xn = np.linspace(0,n+(n-1)*np.sqrt(n),100)\n",
    "    \n",
    "    Laguerre = []\n",
    "    DLaguerre = []\n",
    "    \n",
    "    for i in range(n+1):\n",
    "        Laguerre.append(GetLaguerre(i,x))\n",
    "        DLaguerre.append(GetDLaguerre(i,x))\n",
    "    \n",
    "    poly = sym.lambdify([x],Laguerre[n],'numpy')\n",
    "    Dpoly = sym.lambdify([x],DLaguerre[n],'numpy')\n",
    "    Roots = GetRoots(poly,Dpoly,xn)\n",
    "\n",
    "    if len(Roots) != n:\n",
    "        ValueError('El número de raíces debe ser igual al n del polinomio.')\n",
    "    \n",
    "    return Roots"
   ]
  },
  {
   "cell_type": "code",
   "execution_count": 29,
   "metadata": {},
   "outputs": [],
   "source": [
    "def GetWeightsGLag(n):\n",
    "\n",
    "    Roots = GetAllRootsGLag(n)\n",
    "\n",
    "    Laguerre = []\n",
    "    \n",
    "    for i in range(n+2):\n",
    "        Laguerre.append(GetLaguerre(i,x))\n",
    "    \n",
    "    poly = sym.lambdify([x],Laguerre[n+1],'numpy')\n",
    "    Weights = Roots/((n+1)**2*poly(Roots)**2)\n",
    "    \n",
    "    return Weights"
   ]
  },
  {
   "cell_type": "code",
   "execution_count": 30,
   "metadata": {},
   "outputs": [
    {
     "name": "stdout",
     "output_type": "stream",
     "text": [
      "[0.1687468  0.29125436 0.2666861  0.00620255] [0.07053989 0.37212682 0.9165821  5.61517497]\n",
      "[1.68746802e-01 2.91254362e-01 2.66686103e-01 1.66002453e-01\n",
      " 7.48260647e-02 2.49644173e-02 6.20255084e-03 1.14496239e-03\n",
      " 1.55741773e-04 1.54014409e-05 1.08648637e-06 5.33012091e-08\n",
      " 1.75798118e-09 3.72550240e-11 4.76752925e-13 3.37284424e-15\n",
      " 1.15501434e-17 1.53952214e-20 5.28644273e-24 1.65645661e-28]\n",
      "----------------------------------------------------------------------\n",
      "[ 0.07053989  0.37212682  0.9165821   1.70730653  2.74919926  4.04892531\n",
      "  5.61517497  7.45901745  9.59439287 12.03880255 14.81429344 17.94889552\n",
      " 21.47878824 25.45170279 29.93255463 35.01343424 40.83305706 47.61999405\n",
      " 55.81079575 66.52441653]\n"
     ]
    }
   ],
   "source": [
    "Roots,Weights = np.polynomial.laguerre.laggauss(n)\n",
    "pesos = GetWeightsGLag(n)\n",
    "raices = GetAllRootsGLag(n)\n",
    "print(pesos,raices)\n",
    "print(Weights)\n",
    "print(\"----------------------------------------------------------------------\")\n",
    "print(Roots)"
   ]
  }
 ],
 "metadata": {
  "kernelspec": {
   "display_name": "Python 3",
   "language": "python",
   "name": "python3"
  },
  "language_info": {
   "codemirror_mode": {
    "name": "ipython",
    "version": 3
   },
   "file_extension": ".py",
   "mimetype": "text/x-python",
   "name": "python",
   "nbconvert_exporter": "python",
   "pygments_lexer": "ipython3",
   "version": "3.9.0"
  },
  "orig_nbformat": 4,
  "vscode": {
   "interpreter": {
    "hash": "aee8b7b246df8f9039afb4144a1f6fd8d2ca17a180786b69acc140d282b71a49"
   }
  }
 },
 "nbformat": 4,
 "nbformat_minor": 2
}

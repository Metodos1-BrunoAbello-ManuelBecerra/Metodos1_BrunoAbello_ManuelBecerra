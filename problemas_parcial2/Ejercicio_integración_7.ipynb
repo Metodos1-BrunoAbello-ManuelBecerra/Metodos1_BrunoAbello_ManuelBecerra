{
 "cells": [
  {
   "cell_type": "code",
   "execution_count": 75,
   "metadata": {},
   "outputs": [],
   "source": [
    "import numpy as np"
   ]
  },
  {
   "cell_type": "code",
   "execution_count": 76,
   "metadata": {},
   "outputs": [],
   "source": [
    "#Definimos la semiesfera como una función:\n",
    "def SemiEsfera(x, y):\n",
    "    if x**2 + y**2 <= 1:\n",
    "        return np.sqrt(1-(x**2)-(y**2))\n",
    "    else:\n",
    "        return 0"
   ]
  },
  {
   "cell_type": "code",
   "execution_count": 77,
   "metadata": {},
   "outputs": [],
   "source": [
    "#Definimos la grilla (punto a)\n",
    "n = 100\n",
    "x = np.linspace(-1, 1, n)\n",
    "y = np.linspace(-1, 1, n)"
   ]
  },
  {
   "cell_type": "code",
   "execution_count": 78,
   "metadata": {},
   "outputs": [],
   "source": [
    "#calculamos el área en cada cuadrado y el volumen total de la semi-esfera\n",
    "def volumen(f, x, y):\n",
    "    VolumenTotal = 0\n",
    "    for i in range(len(x)-1):\n",
    "        for j in range(len(y)-1):\n",
    "            promedio = (f(x[i], y[j]) + f(x[i+1], y[j]) + f(x[i], y[j+1]) + f(x[i+1], y[j+1]))/4\n",
    "            ACuadrado = (x[i+1] - x[i] ) * (y[j+1] - y[j])\n",
    "            VolumenTotal += promedio * ACuadrado\n",
    "    return VolumenTotal"
   ]
  },
  {
   "cell_type": "code",
   "execution_count": 79,
   "metadata": {},
   "outputs": [
    {
     "data": {
      "text/plain": [
       "2.093708450108178"
      ]
     },
     "execution_count": 79,
     "metadata": {},
     "output_type": "execute_result"
    }
   ],
   "source": [
    "V = volumen(SemiEsfera, x, y)\n",
    "V"
   ]
  }
 ],
 "metadata": {
  "kernelspec": {
   "display_name": "Python 3",
   "language": "python",
   "name": "python3"
  },
  "language_info": {
   "codemirror_mode": {
    "name": "ipython",
    "version": 3
   },
   "file_extension": ".py",
   "mimetype": "text/x-python",
   "name": "python",
   "nbconvert_exporter": "python",
   "pygments_lexer": "ipython3",
   "version": "3.10.11"
  },
  "orig_nbformat": 4
 },
 "nbformat": 4,
 "nbformat_minor": 2
}

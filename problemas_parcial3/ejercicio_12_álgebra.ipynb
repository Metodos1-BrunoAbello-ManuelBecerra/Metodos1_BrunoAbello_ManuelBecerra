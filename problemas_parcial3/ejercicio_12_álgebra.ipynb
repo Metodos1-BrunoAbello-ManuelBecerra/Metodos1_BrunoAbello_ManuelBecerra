{
 "cells": [
  {
   "cell_type": "code",
   "execution_count": 1,
   "metadata": {},
   "outputs": [],
   "source": [
    "import numpy as np"
   ]
  },
  {
   "cell_type": "code",
   "execution_count": 2,
   "metadata": {},
   "outputs": [],
   "source": [
    "def GetF2(G,r):\n",
    "    n = r.shape[0]\n",
    "    v = np.zeros_like(r)\n",
    "    for i in range(n):\n",
    "        v[i] = G[i](r[0],r[1])\n",
    "    return v"
   ]
  },
  {
   "cell_type": "code",
   "execution_count": 3,
   "metadata": {},
   "outputs": [],
   "source": [
    "def GetF3(G,r):\n",
    "    n = r.shape[0]\n",
    "    v = np.zeros_like(r)\n",
    "    for i in range(n):\n",
    "        v[i] = G[i](r[0],r[1],r[2])\n",
    "    return v"
   ]
  },
  {
   "cell_type": "code",
   "execution_count": 4,
   "metadata": {},
   "outputs": [],
   "source": [
    "def GetJacobian2(f,r,h=1e-6):\n",
    "    n = r.shape[0]\n",
    "    J = np.zeros((n,n))\n",
    "    for i in range(n):\n",
    "        for j in range(n):\n",
    "            rf = r.copy()\n",
    "            rb = r.copy()\n",
    "            rf[j] = rf[j] + h\n",
    "            rb[j] = rb[j] - h\n",
    "            J[i,j] = ( f[i](rf[0],rf[1]) - f[i](rb[0],rb[1])  )/(2*h)\n",
    "    return J"
   ]
  },
  {
   "cell_type": "code",
   "execution_count": 5,
   "metadata": {},
   "outputs": [],
   "source": [
    "def GetJacobian3(f,r,h=1e-6):\n",
    "    n = r.shape[0]\n",
    "    J = np.zeros((n,n))\n",
    "    for i in range(n):\n",
    "        for j in range(n):\n",
    "            rf = r.copy()\n",
    "            rb = r.copy()\n",
    "            rf[j] = rf[j] + h\n",
    "            rb[j] = rb[j] - h\n",
    "            J[i,j] = ( f[i](rf[0],rf[1],rf[2]) - f[i](rb[0],rb[1],rb[2])  )/(2*h)\n",
    "    return J"
   ]
  },
  {
   "cell_type": "code",
   "execution_count": 6,
   "metadata": {},
   "outputs": [],
   "source": [
    "def NewtonRaphson2(G,r,itmax=1000,error=1e-9):\n",
    "    it = 0\n",
    "    d = 1.\n",
    "    dvector = []\n",
    "    while d > error and it < itmax:\n",
    "        # Vector actual\n",
    "        rc = r\n",
    "        F = GetF2(G,rc)\n",
    "        J = GetJacobian2(G,rc)\n",
    "        InvJ = np.linalg.inv(J)\n",
    "        r = rc - np.dot(InvJ,F)\n",
    "        diff = r - rc\n",
    "        d = np.max( np.abs(diff) )\n",
    "        dvector.append(d)\n",
    "        it += 1\n",
    "    return r,dvector"
   ]
  },
  {
   "cell_type": "code",
   "execution_count": 7,
   "metadata": {},
   "outputs": [],
   "source": [
    "def NewtonRaphson3(G,r,itmax=1000,error=1e-9):\n",
    "    it = 0\n",
    "    d = 1.\n",
    "    dvector = []\n",
    "    while d > error and it < itmax:\n",
    "        # Vector actual\n",
    "        rc = r\n",
    "        F = GetF3(G,rc)\n",
    "        J = GetJacobian3(G,rc)\n",
    "        InvJ = np.linalg.inv(J)\n",
    "        r = rc - np.dot(InvJ,F)\n",
    "        diff = r - rc\n",
    "        d = np.max( np.abs(diff) )\n",
    "        dvector.append(d)\n",
    "        it += 1\n",
    "    return r,dvector"
   ]
  },
  {
   "cell_type": "code",
   "execution_count": 8,
   "metadata": {},
   "outputs": [],
   "source": [
    "def Metric2(G,r):\n",
    "    return 0.5*np.linalg.norm(GetF2(G,r))**2"
   ]
  },
  {
   "cell_type": "code",
   "execution_count": 9,
   "metadata": {},
   "outputs": [],
   "source": [
    "def Metric3(G,r):\n",
    "    return 0.5*np.linalg.norm(GetF3(G,r))**2"
   ]
  },
  {
   "cell_type": "code",
   "execution_count": 10,
   "metadata": {},
   "outputs": [],
   "source": [
    "def GetFig(R,M,it):\n",
    "    fig = plt.figure(figsize=(6,3))\n",
    "    ax = fig.add_subplot(1,2,1)\n",
    "    ax1 = fig.add_subplot(1,2,2)\n",
    "    ax.plot(R[:it])\n",
    "    ax1.plot(M[:it])\n",
    "    plt.show()"
   ]
  },
  {
   "cell_type": "code",
   "execution_count": 11,
   "metadata": {},
   "outputs": [],
   "source": [
    "def Minimizer2(G,r,lr=1e-2,epochs=int(1e4),error=1e-7):\n",
    "    metric = 1\n",
    "    it = 0\n",
    "    M = np.array([])\n",
    "    R = np.array([r])\n",
    "    while metric > error and it < epochs:\n",
    "        M = np.append(M,Metric2(G,r))\n",
    "        J = GetJacobian2(G,r)\n",
    "        Vector = GetF2(G,r)\n",
    "        # Machine learning\n",
    "        r -= lr*np.dot(J,Vector)\n",
    "        R = np.vstack((R,r))\n",
    "        metric = Metric2(G,r)\n",
    "        it += 1\n",
    "        \"\"\"if it%50 == 0:\n",
    "            clear_output(wait=True)\n",
    "            GetFig(R,M,it)\n",
    "            time.sleep(0.001)\"\"\"\n",
    "    return r"
   ]
  },
  {
   "cell_type": "code",
   "execution_count": 12,
   "metadata": {},
   "outputs": [],
   "source": [
    "def Minimizer3(G,r,lr=1e-2,epochs=int(1e4),error=1e-7):\n",
    "    metric = 1\n",
    "    it = 0\n",
    "    M = np.array([])\n",
    "    R = np.array([r])\n",
    "    while metric > error and it < epochs:\n",
    "        M = np.append(M,Metric3(G,r))\n",
    "        J = GetJacobian3(G,r)\n",
    "        Vector = GetF3(G,r)\n",
    "        # Machine learning\n",
    "        r -= lr*np.dot(J,Vector)\n",
    "        R = np.vstack((R,r))\n",
    "        metric = Metric3(G,r)\n",
    "        it += 1\n",
    "        \"\"\"if it%50 == 0:\n",
    "            clear_output(wait=True)\n",
    "            GetFig(R,M,it)\n",
    "            time.sleep(0.001)\"\"\"\n",
    "    return r"
   ]
  },
  {
   "cell_type": "code",
   "execution_count": 13,
   "metadata": {},
   "outputs": [],
   "source": [
    "G = np.array([lambda x, y: np.log(x**2 + y**2)-np.sin(x*y)-np.log(2)-np.log(np.pi), \n",
    "              lambda x, y: np.exp(x-y) + np.cos(x*y)])"
   ]
  },
  {
   "cell_type": "code",
   "execution_count": 14,
   "metadata": {},
   "outputs": [
    {
     "data": {
      "text/plain": [
       "array([1.77245385, 1.77245385])"
      ]
     },
     "execution_count": 14,
     "metadata": {},
     "output_type": "execute_result"
    }
   ],
   "source": [
    "r, dvector = NewtonRaphson2(G, np.array([2., 2.]))\n",
    "r"
   ]
  },
  {
   "cell_type": "code",
   "execution_count": 15,
   "metadata": {},
   "outputs": [
    {
     "data": {
      "text/plain": [
       "array([1.77231221, 1.77269214])"
      ]
     },
     "execution_count": 15,
     "metadata": {},
     "output_type": "execute_result"
    }
   ],
   "source": [
    "xsol = Minimizer2(G, np.array([2., 2.]))\n",
    "xsol"
   ]
  },
  {
   "cell_type": "code",
   "execution_count": 16,
   "metadata": {},
   "outputs": [],
   "source": [
    "G2 = np.array([lambda x,y,z: 6*x - 2*np.cos(y*z) - 1.,\n",
    "               lambda x,y,z: 9*y + np.sqrt(x**2 + np.sin(z) + 1.06) + 0.9,\n",
    "               lambda x,y,z: 60*z + 3*np.exp(-(x*y)) + 10*np.pi - 3.])"
   ]
  },
  {
   "cell_type": "code",
   "execution_count": 17,
   "metadata": {},
   "outputs": [
    {
     "data": {
      "text/plain": [
       "array([ 0.49814468, -0.1996059 , -0.52882598])"
      ]
     },
     "execution_count": 17,
     "metadata": {},
     "output_type": "execute_result"
    }
   ],
   "source": [
    "r, dvector = NewtonRaphson3(G2, np.array([0., 0., 0.]))\n",
    "r"
   ]
  },
  {
   "cell_type": "code",
   "execution_count": 18,
   "metadata": {},
   "outputs": [
    {
     "name": "stderr",
     "output_type": "stream",
     "text": [
      "C:\\Users\\brune\\AppData\\Local\\Temp\\ipykernel_6660\\1689576832.py:3: RuntimeWarning: overflow encountered in exp\n",
      "  lambda x,y,z: 60*z + 3*np.exp(-(x*y)) + 10*np.pi - 3.])\n",
      "C:\\Users\\brune\\AppData\\Local\\Temp\\ipykernel_6660\\2793432053.py:10: RuntimeWarning: invalid value encountered in scalar subtract\n",
      "  J[i,j] = ( f[i](rf[0],rf[1],rf[2]) - f[i](rb[0],rb[1],rb[2])  )/(2*h)\n"
     ]
    },
    {
     "data": {
      "text/plain": [
       "array([ inf, -inf,  nan])"
      ]
     },
     "execution_count": 18,
     "metadata": {},
     "output_type": "execute_result"
    }
   ],
   "source": [
    "xsol = Minimizer3(G2, np.array([0., 0., 0.]))\n",
    "xsol"
   ]
  }
 ],
 "metadata": {
  "kernelspec": {
   "display_name": "Python 3",
   "language": "python",
   "name": "python3"
  },
  "language_info": {
   "codemirror_mode": {
    "name": "ipython",
    "version": 3
   },
   "file_extension": ".py",
   "mimetype": "text/x-python",
   "name": "python",
   "nbconvert_exporter": "python",
   "pygments_lexer": "ipython3",
   "version": "3.10.11"
  }
 },
 "nbformat": 4,
 "nbformat_minor": 2
}

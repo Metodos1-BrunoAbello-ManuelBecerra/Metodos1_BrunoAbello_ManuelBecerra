{
 "cells": [
  {
   "cell_type": "code",
   "execution_count": 1,
   "metadata": {},
   "outputs": [],
   "source": [
    "import numpy as np"
   ]
  },
  {
   "cell_type": "code",
   "execution_count": 2,
   "metadata": {},
   "outputs": [],
   "source": [
    "def multiplicacion_de_matrices(A, B):\n",
    "    C = np.array([])\n",
    "    if len(A[0]) == len(B):\n",
    "        if len(B.shape) == 2:\n",
    "            for i in range (len(A)):\n",
    "                D = []\n",
    "                for k in range(len(B[0])):\n",
    "                    sum = 0\n",
    "                    for j in range (len(B)):\n",
    "                        sum += A[i, j]*B[j, k]\n",
    "                    D.append(sum)\n",
    "                C = np.append(C, D)\n",
    "            return C.reshape(len(A), len(B[0]))\n",
    "        else:\n",
    "            for i in range (len(A[0])):\n",
    "                sum = 0\n",
    "                for j in range (len(B)):\n",
    "                    sum += A[i, j]*B[j]\n",
    "                C = np.append(C, sum)\n",
    "            return C\n",
    "    else:\n",
    "        return \"Las columnas de la primera matriz y las filas de la segunda no coinciden en número\""
   ]
  },
  {
   "cell_type": "code",
   "execution_count": 3,
   "metadata": {},
   "outputs": [
    {
     "data": {
      "text/plain": [
       "array([[ 4., -2.,  1.],\n",
       "       [20., -7., 12.],\n",
       "       [-8., 13., 21.]])"
      ]
     },
     "execution_count": 3,
     "metadata": {},
     "output_type": "execute_result"
    }
   ],
   "source": [
    "A = np.array([[1, 0, 0], [5, 1, 0], [-2, 3, 1]])\n",
    "B = np.array([[4, -2, 1], [0, 3, 7], [0, 0, 2]])\n",
    "Mul = multiplicacion_de_matrices(A, B)\n",
    "Mul"
   ]
  }
 ],
 "metadata": {
  "kernelspec": {
   "display_name": "Python 3",
   "language": "python",
   "name": "python3"
  },
  "language_info": {
   "codemirror_mode": {
    "name": "ipython",
    "version": 3
   },
   "file_extension": ".py",
   "mimetype": "text/x-python",
   "name": "python",
   "nbconvert_exporter": "python",
   "pygments_lexer": "ipython3",
   "version": "3.10.11"
  }
 },
 "nbformat": 4,
 "nbformat_minor": 2
}

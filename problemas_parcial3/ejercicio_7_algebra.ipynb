{
 "cells": [
  {
   "cell_type": "code",
   "execution_count": 229,
   "metadata": {},
   "outputs": [],
   "source": [
    "import numpy as np"
   ]
  },
  {
   "cell_type": "code",
   "execution_count": 230,
   "metadata": {},
   "outputs": [],
   "source": [
    "def SOR(A,b,x0, omega, itmax=1000,tolerancia=1e-14):\n",
    "    x = x0.copy()\n",
    "    u = x.copy()\n",
    "    sumk = x.copy()\n",
    "    residuo = np.linalg.norm( np.dot(A,x) - b)\n",
    "    it = 0\n",
    "    while residuo >= tolerancia and it < itmax:\n",
    "        u[:] = 0\n",
    "        sumk[:] = 0.\n",
    "        for i in range(A.shape[0]):\n",
    "            for j in range(A.shape[1]):\n",
    "                if i != j:\n",
    "                    sumk[i] += A[i,j]*x[j]\n",
    "            u[i] = (1 - omega) * x[i] + (omega / A[i, i]) * (b[i] - sumk[i] - sumk[i-1])\n",
    "        x = u.copy()\n",
    "        residuo = np.max(np.abs(np.dot(A,x) - b))\n",
    "        it += 1\n",
    "        if residuo > 1000:\n",
    "            print('No calculable con SOR')\n",
    "            x[:] = 0.\n",
    "            break\n",
    "        \n",
    "    return x,it"
   ]
  },
  {
   "cell_type": "code",
   "execution_count": 231,
   "metadata": {},
   "outputs": [
    {
     "data": {
      "text/plain": [
       "(array([1, 1, 1]), 2)"
      ]
     },
     "execution_count": 231,
     "metadata": {},
     "output_type": "execute_result"
    }
   ],
   "source": [
    "A = np.array([[3, -1, -1], [-1, 3, 1], [2, 1, 4]])\n",
    "b = np.array([1, 3, 7])\n",
    "x0 = np.array([0, 0, 0])\n",
    "Z, iteraciones = SOR(A, b, x0, 1.1)\n",
    "Z, iteraciones"
   ]
  },
  {
   "cell_type": "code",
   "execution_count": 232,
   "metadata": {},
   "outputs": [
    {
     "name": "stdout",
     "output_type": "stream",
     "text": [
      "No calculable con SOR\n"
     ]
    },
    {
     "data": {
      "text/plain": [
       "(array([1, 1, 1]), 2, 1.1)"
      ]
     },
     "execution_count": 232,
     "metadata": {},
     "output_type": "execute_result"
    }
   ],
   "source": [
    "it = 1000\n",
    "x = x0\n",
    "for i in range(11, 20):\n",
    "    omega = i/10\n",
    "    S, ite = SOR(A, b, x0, omega)\n",
    "    if ite < it:\n",
    "        it = ite\n",
    "        x = S\n",
    "        O = omega\n",
    "x, it, O"
   ]
  },
  {
   "cell_type": "code",
   "execution_count": 233,
   "metadata": {},
   "outputs": [
    {
     "data": {
      "text/plain": [
       "array([1., 1., 1.])"
      ]
     },
     "execution_count": 233,
     "metadata": {},
     "output_type": "execute_result"
    }
   ],
   "source": [
    "np.linalg.solve(A, b)"
   ]
  }
 ],
 "metadata": {
  "kernelspec": {
   "display_name": "Python 3",
   "language": "python",
   "name": "python3"
  },
  "language_info": {
   "codemirror_mode": {
    "name": "ipython",
    "version": 3
   },
   "file_extension": ".py",
   "mimetype": "text/x-python",
   "name": "python",
   "nbconvert_exporter": "python",
   "pygments_lexer": "ipython3",
   "version": "3.10.11"
  }
 },
 "nbformat": 4,
 "nbformat_minor": 2
}

{
 "cells": [
  {
   "cell_type": "code",
   "execution_count": 298,
   "metadata": {},
   "outputs": [],
   "source": [
    "import numpy as np\n"
   ]
  },
  {
   "cell_type": "code",
   "execution_count": 299,
   "metadata": {},
   "outputs": [],
   "source": [
    "def GetF(G,r):\n",
    "    \n",
    "    n = r.shape[0]\n",
    "    \n",
    "    v = np.zeros_like(r)\n",
    "    \n",
    "    for i in range(n):\n",
    "        v[i] = G[i](r[0],r[1],r[2])\n",
    "        \n",
    "    return v"
   ]
  },
  {
   "cell_type": "code",
   "execution_count": 300,
   "metadata": {},
   "outputs": [],
   "source": [
    "def Metric(G,r):\n",
    "    return 0.5*np.linalg.norm(GetF(G,r))**2"
   ]
  },
  {
   "cell_type": "code",
   "execution_count": 301,
   "metadata": {},
   "outputs": [],
   "source": [
    "A = np.array([[0.2, 0.1, 1., 1., 0.], [0.1, 4., -1., 1., -1.], [1., -1., 60., 0., -2.], \n",
    "              [1., 1., 0., 8., 4.], [0., -1., -2., 4., 700.]])\n",
    "b = np.array([1, 2, 3, 4, 5])\n",
    "x0 = np.array([0, 0, 0, 0, 0])"
   ]
  },
  {
   "cell_type": "code",
   "execution_count": 302,
   "metadata": {},
   "outputs": [],
   "source": [
    "def norma_inf(r):\n",
    "    x = 0\n",
    "    for i in range(len(r)):\n",
    "        if np.abs(r[i]) > x:\n",
    "            x = np.abs(r[i])\n",
    "    return x"
   ]
  },
  {
   "cell_type": "code",
   "execution_count": 303,
   "metadata": {},
   "outputs": [],
   "source": [
    "def Descenso_conjugado(A, b, x0, epsilon = 0.01):\n",
    "    r = np.dot(A, x0) - b\n",
    "    p = -r\n",
    "    k = 0\n",
    "    x = x0\n",
    "    while norma_inf(r) > epsilon:\n",
    "        #alpha0 = alpha1\n",
    "        #x = x + alpha*p\n",
    "        alpha1 = - (np.dot(r.T, p)) / (np.dot(np.dot(p.T, A), p))\n",
    "        x = x + alpha1*p\n",
    "        r = np.dot(A, x) - b\n",
    "        beta = (np.dot(np.dot(r.T, A), p))/(np.dot(np.dot(p.T, A), p))\n",
    "        p = -r + beta*p\n",
    "        k += 1\n",
    "    return x, k"
   ]
  },
  {
   "cell_type": "code",
   "execution_count": 304,
   "metadata": {},
   "outputs": [
    {
     "data": {
      "text/plain": [
       "(array([ 7.85971308,  0.42292641, -0.07359224, -0.54064302,  0.01062616]), 5)"
      ]
     },
     "execution_count": 304,
     "metadata": {},
     "output_type": "execute_result"
    }
   ],
   "source": [
    "Descenso_conjugado(A, b, x0)"
   ]
  },
  {
   "cell_type": "code",
   "execution_count": 305,
   "metadata": {},
   "outputs": [
    {
     "data": {
      "text/plain": [
       "array([ 7.85971308,  0.42292641, -0.07359224, -0.54064302,  0.01062616])"
      ]
     },
     "execution_count": 305,
     "metadata": {},
     "output_type": "execute_result"
    }
   ],
   "source": [
    "np.linalg.solve(A, b)"
   ]
  }
 ],
 "metadata": {
  "kernelspec": {
   "display_name": "Python 3",
   "language": "python",
   "name": "python3"
  },
  "language_info": {
   "codemirror_mode": {
    "name": "ipython",
    "version": 3
   },
   "file_extension": ".py",
   "mimetype": "text/x-python",
   "name": "python",
   "nbconvert_exporter": "python",
   "pygments_lexer": "ipython3",
   "version": "3.9.0"
  },
  "orig_nbformat": 4,
  "vscode": {
   "interpreter": {
    "hash": "aee8b7b246df8f9039afb4144a1f6fd8d2ca17a180786b69acc140d282b71a49"
   }
  }
 },
 "nbformat": 4,
 "nbformat_minor": 2
}

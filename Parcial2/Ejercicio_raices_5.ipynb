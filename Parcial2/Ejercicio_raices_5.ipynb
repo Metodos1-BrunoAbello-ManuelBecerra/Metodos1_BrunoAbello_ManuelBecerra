{
 "cells": [
  {
   "cell_type": "code",
   "execution_count": 1,
   "metadata": {},
   "outputs": [],
   "source": [
    "import numpy as np\n",
    "import sympy as sym"
   ]
  },
  {
   "cell_type": "code",
   "execution_count": 2,
   "metadata": {},
   "outputs": [],
   "source": [
    "x = sym.Symbol('x',real=True)\n",
    "y = sym.Symbol('y',real=True)\n",
    "n = 20"
   ]
  },
  {
   "cell_type": "code",
   "execution_count": 3,
   "metadata": {},
   "outputs": [],
   "source": [
    "def GetLegendre(n,x,y):\n",
    "    y = (x**2 - 1)**n\n",
    "    poly = sym.diff(y,x,n)/(2**n*np.math.factorial(n))\n",
    "    return poly"
   ]
  },
  {
   "cell_type": "code",
   "execution_count": 4,
   "metadata": {},
   "outputs": [
    {
     "ename": "NameError",
     "evalue": "name 'n' is not defined",
     "output_type": "error",
     "traceback": [
      "\u001b[1;31m---------------------------------------------------------------------------\u001b[0m",
      "\u001b[1;31mNameError\u001b[0m                                 Traceback (most recent call last)",
      "\u001b[1;32mc:\\Users\\brune\\OneDrive\\Documentos\\Metodos1_BrunoAbello_ManuelBecerra\\Parcial2\\Ejercicio_raices_5.ipynb Celda 4\u001b[0m line \u001b[0;36m4\n\u001b[0;32m      <a href='vscode-notebook-cell:/c%3A/Users/brune/OneDrive/Documentos/Metodos1_BrunoAbello_ManuelBecerra/Parcial2/Ejercicio_raices_5.ipynb#W3sZmlsZQ%3D%3D?line=0'>1</a>\u001b[0m Legendre \u001b[39m=\u001b[39m []\n\u001b[0;32m      <a href='vscode-notebook-cell:/c%3A/Users/brune/OneDrive/Documentos/Metodos1_BrunoAbello_ManuelBecerra/Parcial2/Ejercicio_raices_5.ipynb#W3sZmlsZQ%3D%3D?line=1'>2</a>\u001b[0m DLegendre \u001b[39m=\u001b[39m []\n\u001b[1;32m----> <a href='vscode-notebook-cell:/c%3A/Users/brune/OneDrive/Documentos/Metodos1_BrunoAbello_ManuelBecerra/Parcial2/Ejercicio_raices_5.ipynb#W3sZmlsZQ%3D%3D?line=3'>4</a>\u001b[0m \u001b[39mfor\u001b[39;00m i \u001b[39min\u001b[39;00m \u001b[39mrange\u001b[39m(n\u001b[39m+\u001b[39m\u001b[39m1\u001b[39m):\n\u001b[0;32m      <a href='vscode-notebook-cell:/c%3A/Users/brune/OneDrive/Documentos/Metodos1_BrunoAbello_ManuelBecerra/Parcial2/Ejercicio_raices_5.ipynb#W3sZmlsZQ%3D%3D?line=4'>5</a>\u001b[0m     Polinomio \u001b[39m=\u001b[39m GetLegendre(i,x,y)\n\u001b[0;32m      <a href='vscode-notebook-cell:/c%3A/Users/brune/OneDrive/Documentos/Metodos1_BrunoAbello_ManuelBecerra/Parcial2/Ejercicio_raices_5.ipynb#W3sZmlsZQ%3D%3D?line=5'>6</a>\u001b[0m     Legendre\u001b[39m.\u001b[39mappend(Polinomio)\n",
      "\u001b[1;31mNameError\u001b[0m: name 'n' is not defined"
     ]
    }
   ],
   "source": [
    "Legendre = []\n",
    "DLegendre = []\n",
    "\n",
    "for i in range(n+1):\n",
    "    Polinomio = GetLegendre(i,x,y)\n",
    "    Legendre.append(Polinomio)\n",
    "    DLegendre.append(sym.diff(Polinomio,x,1))"
   ]
  },
  {
   "cell_type": "code",
   "execution_count": null,
   "metadata": {},
   "outputs": [],
   "source": [
    "def NewtonRaphson(f,df,xn,itmax=10000,precision=1e-14):\n",
    "    error = 1.\n",
    "    it = 0\n",
    "    while error >= precision and it < itmax:    \n",
    "        try:\n",
    "            xn1 = xn - f(xn)/df(xn)\n",
    "            error = np.abs(f(xn)/df(xn))\n",
    "        except ZeroDivisionError:\n",
    "            print('Zero Division')\n",
    "        xn = xn1\n",
    "        it += 1\n",
    "    if it == itmax:\n",
    "        return False\n",
    "    else:\n",
    "        return xn"
   ]
  },
  {
   "cell_type": "code",
   "execution_count": null,
   "metadata": {},
   "outputs": [],
   "source": [
    "def GetRoots(f,df,x,tolerancia = 14):\n",
    "    Roots = np.array([])\n",
    "    for i in x:\n",
    "        root = NewtonRaphson(f,df,i)\n",
    "        if root != False:\n",
    "            croot = np.round( root, tolerancia )\n",
    "            if croot not in Roots:\n",
    "                Roots = np.append(Roots, croot)\n",
    "    Roots.sort()\n",
    "    return Roots"
   ]
  },
  {
   "cell_type": "code",
   "execution_count": null,
   "metadata": {},
   "outputs": [],
   "source": [
    "def GetAllRoots(n,xn,Legendre,DLegendre):\n",
    "    poly = sym.lambdify([x],Legendre[n],'numpy')\n",
    "    Dpoly = sym.lambdify([x],DLegendre[n],'numpy')\n",
    "    Roots = GetRoots(poly,Dpoly,xn)\n",
    "    return Roots"
   ]
  },
  {
   "cell_type": "code",
   "execution_count": null,
   "metadata": {},
   "outputs": [],
   "source": [
    "xn = np.linspace(-1,1,100)\n",
    "Roots1 = GetAllRoots(n,xn,Legendre,DLegendre)\n",
    "Roots2 = []\n",
    "for i in range (len(Roots1)):\n",
    "    if round(Roots1[i], 7) != round(Roots1[i-1], 7):\n",
    "        Roots2.append(Roots1[i])\n",
    "RootsReturn = np.array(Roots2)"
   ]
  },
  {
   "cell_type": "code",
   "execution_count": null,
   "metadata": {},
   "outputs": [],
   "source": [
    "RootsReturn"
   ]
  }
 ],
 "metadata": {
  "kernelspec": {
   "display_name": "Python 3",
   "language": "python",
   "name": "python3"
  },
  "language_info": {
   "codemirror_mode": {
    "name": "ipython",
    "version": 3
   },
   "file_extension": ".py",
   "mimetype": "text/x-python",
   "name": "python",
   "nbconvert_exporter": "python",
   "pygments_lexer": "ipython3",
   "version": "3.10.11"
  },
  "orig_nbformat": 4
 },
 "nbformat": 4,
 "nbformat_minor": 2
}

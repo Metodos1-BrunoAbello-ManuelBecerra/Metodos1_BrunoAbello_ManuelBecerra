{
 "cells": [
  {
   "cell_type": "code",
   "execution_count": 64,
   "metadata": {},
   "outputs": [],
   "source": [
    "import numpy as np\n",
    "import sympy as sym\n",
    "import math as m"
   ]
  },
  {
   "cell_type": "code",
   "execution_count": 65,
   "metadata": {},
   "outputs": [],
   "source": [
    "x = sym.Symbol('x',real=True)\n",
    "y = sym.Symbol('y',real=True)"
   ]
  },
  {
   "cell_type": "code",
   "execution_count": 66,
   "metadata": {},
   "outputs": [],
   "source": [
    "def GetNewton(f,df,xn,itmax=10000,precision=1e-14):\n",
    "    error = 1.\n",
    "    it = 0\n",
    "    while error >= precision and it < itmax:\n",
    "        try:\n",
    "            xn1 = xn - f(xn)/df(xn)\n",
    "            error = np.abs(f(xn)/df(xn))\n",
    "        except ZeroDivisionError:\n",
    "            print('Zero Division')\n",
    "        xn = xn1\n",
    "        it += 1\n",
    "    if it == itmax:\n",
    "        return False\n",
    "    else:\n",
    "        return xn"
   ]
  },
  {
   "cell_type": "code",
   "execution_count": 67,
   "metadata": {},
   "outputs": [],
   "source": [
    "def GetRoots(f,df,x,tolerancia = 10):\n",
    "    Roots = np.array([])\n",
    "    for i in x:\n",
    "        root = GetNewton(f,df,i)\n",
    "        if  type(root)!=bool:\n",
    "            croot = np.round( root, tolerancia )\n",
    "            if croot not in Roots:\n",
    "                Roots = np.append(Roots, croot)\n",
    "    Roots.sort()\n",
    "    return Roots"
   ]
  },
  {
   "cell_type": "code",
   "execution_count": 68,
   "metadata": {},
   "outputs": [],
   "source": [
    "def GetHermite(n, x):\n",
    "    if n == 0:\n",
    "        poly = sym.Number(1)\n",
    "    elif n==1:\n",
    "        poly = 2*x\n",
    "    else:\n",
    "        poly = ((2*x)*GetHermite(n-1,x)-2*(n-1)*GetHermite(n-2,x))\n",
    "    return sym.expand(poly,x)"
   ]
  },
  {
   "cell_type": "code",
   "execution_count": 69,
   "metadata": {},
   "outputs": [],
   "source": [
    "def GetDHermite(n,x):\n",
    "    Pn = GetHermite(n,x)\n",
    "    return sym.diff(Pn,x,1)"
   ]
  },
  {
   "cell_type": "code",
   "execution_count": 70,
   "metadata": {},
   "outputs": [],
   "source": [
    "def GetAllRootsGHer (n):\n",
    "    xn = np.linspace(-np.sqrt(4*n+1),np.sqrt(4*n+1),100)\n",
    "\n",
    "    Hermite = GetHermite(n,x)\n",
    "    DHermite = GetDHermite(n,x)\n",
    "    \n",
    "    poly = sym.lambdify([x],Hermite,'numpy')\n",
    "    Dpoly = sym.lambdify([x],DHermite,'numpy')\n",
    "    \n",
    "    Roots = GetRoots(poly,Dpoly,xn)\n",
    "\n",
    "    if len(Roots) != n:\n",
    "        ValueError('El número de raíces debe ser igual al n del polinomio.')\n",
    "    \n",
    "    return Roots"
   ]
  },
  {
   "cell_type": "code",
   "execution_count": 71,
   "metadata": {},
   "outputs": [],
   "source": [
    "def GetWeightsGHer(n):\n",
    "\n",
    "    Roots = GetAllRootsGHer(n)\n",
    "    \n",
    "    Hermite = (GetHermite(n-1,x))\n",
    "    \n",
    "    poly = sym.lambdify([x],Hermite,'numpy')\n",
    "    Weights = ((2**(n-1))*m.factorial(n)*np.sqrt(np.pi))/((n)**2*poly(Roots)**2)\n",
    "    \n",
    "    return Weights"
   ]
  },
  {
   "cell_type": "code",
   "execution_count": 72,
   "metadata": {},
   "outputs": [
    {
     "data": {
      "text/plain": [
       "array([-5.38748089, -4.60368245, -3.94476404, -3.34785457, -2.78880606,\n",
       "       -2.254974  , -1.73853771, -1.23407622, -0.73747373, -0.24534071,\n",
       "        0.24534071,  0.73747373,  1.23407622,  1.73853771,  2.254974  ,\n",
       "        2.78880606,  3.34785457,  3.94476404,  4.60368245,  5.38748089])"
      ]
     },
     "execution_count": 72,
     "metadata": {},
     "output_type": "execute_result"
    }
   ],
   "source": [
    "GetAllRootsGHer(20)"
   ]
  },
  {
   "cell_type": "code",
   "execution_count": 73,
   "metadata": {},
   "outputs": [
    {
     "data": {
      "text/plain": [
       "array([2.22939365e-13, 4.39934099e-10, 1.08606937e-07, 7.80255648e-06,\n",
       "       2.28338636e-04, 3.24377334e-03, 2.48105209e-02, 1.09017206e-01,\n",
       "       2.86675505e-01, 4.62243670e-01, 4.62243670e-01, 2.86675505e-01,\n",
       "       1.09017206e-01, 2.48105209e-02, 3.24377334e-03, 2.28338636e-04,\n",
       "       7.80255648e-06, 1.08606937e-07, 4.39934099e-10, 2.22939365e-13])"
      ]
     },
     "execution_count": 73,
     "metadata": {},
     "output_type": "execute_result"
    }
   ],
   "source": [
    "GetWeightsGHer(20)"
   ]
  },
  {
   "cell_type": "code",
   "execution_count": 108,
   "metadata": {},
   "outputs": [],
   "source": [
    "epsilon = x\n",
    "n = 1\n",
    "def funcion(epsilon):\n",
    "    \n",
    "    return (1/(np.sqrt(2**1)))*(1/(np.pi**(1/4)))*epsilon*np.exp(-epsilon**2/2)*(2*epsilon)"
   ]
  },
  {
   "cell_type": "code",
   "execution_count": 109,
   "metadata": {},
   "outputs": [
    {
     "ename": "TypeError",
     "evalue": "loop of ufunc does not support argument 0 of type Mul which has no callable exp method",
     "output_type": "error",
     "traceback": [
      "\u001b[0;31m---------------------------------------------------------------------------\u001b[0m",
      "\u001b[0;31mAttributeError\u001b[0m                            Traceback (most recent call last)",
      "\u001b[0;31mAttributeError\u001b[0m: 'Mul' object has no attribute 'exp'",
      "\nThe above exception was the direct cause of the following exception:\n",
      "\u001b[0;31mTypeError\u001b[0m                                 Traceback (most recent call last)",
      "Cell \u001b[0;32mIn[109], line 1\u001b[0m\n\u001b[0;32m----> 1\u001b[0m funcion(epsilon)\n",
      "Cell \u001b[0;32mIn[108], line 4\u001b[0m, in \u001b[0;36mfuncion\u001b[0;34m(epsilon)\u001b[0m\n\u001b[1;32m      3\u001b[0m \u001b[39mdef\u001b[39;00m \u001b[39mfuncion\u001b[39m(epsilon):\n\u001b[0;32m----> 4\u001b[0m     \u001b[39mreturn\u001b[39;00m (\u001b[39m1\u001b[39m\u001b[39m/\u001b[39m(np\u001b[39m.\u001b[39msqrt(\u001b[39m2\u001b[39m\u001b[39m*\u001b[39m\u001b[39m*\u001b[39m\u001b[39m1\u001b[39m)))\u001b[39m*\u001b[39m(\u001b[39m1\u001b[39m\u001b[39m/\u001b[39m(np\u001b[39m.\u001b[39mpi\u001b[39m*\u001b[39m\u001b[39m*\u001b[39m(\u001b[39m1\u001b[39m\u001b[39m/\u001b[39m\u001b[39m4\u001b[39m)))\u001b[39m*\u001b[39mepsilon\u001b[39m*\u001b[39mnp\u001b[39m.\u001b[39;49mexp(\u001b[39m-\u001b[39;49mepsilon\u001b[39m*\u001b[39;49m\u001b[39m*\u001b[39;49m\u001b[39m2\u001b[39;49m\u001b[39m/\u001b[39;49m\u001b[39m2\u001b[39;49m)\u001b[39m*\u001b[39m(\u001b[39m2\u001b[39m\u001b[39m*\u001b[39mepsilon)\n",
      "\u001b[0;31mTypeError\u001b[0m: loop of ufunc does not support argument 0 of type Mul which has no callable exp method"
     ]
    }
   ],
   "source": [
    "funcion(epsilon)"
   ]
  },
  {
   "cell_type": "code",
   "execution_count": 102,
   "metadata": {},
   "outputs": [],
   "source": [
    "def Integral(f, x):\n",
    "    return (np.abs(f(x))**2)*(x**2)"
   ]
  },
  {
   "cell_type": "code",
   "execution_count": 103,
   "metadata": {},
   "outputs": [
    {
     "ename": "TypeError",
     "evalue": "loop of ufunc does not support argument 0 of type Mul which has no callable exp method",
     "output_type": "error",
     "traceback": [
      "\u001b[0;31m---------------------------------------------------------------------------\u001b[0m",
      "\u001b[0;31mAttributeError\u001b[0m                            Traceback (most recent call last)",
      "\u001b[0;31mAttributeError\u001b[0m: 'Mul' object has no attribute 'exp'",
      "\nThe above exception was the direct cause of the following exception:\n",
      "\u001b[0;31mTypeError\u001b[0m                                 Traceback (most recent call last)",
      "Cell \u001b[0;32mIn[103], line 3\u001b[0m\n\u001b[1;32m      1\u001b[0m z \u001b[39m=\u001b[39m \u001b[39m0\u001b[39m\n\u001b[1;32m      2\u001b[0m weights \u001b[39m=\u001b[39m GetWeightsGHer(\u001b[39m1\u001b[39m)\n\u001b[0;32m----> 3\u001b[0m \u001b[39msum\u001b[39m(Integral(funcion, epsilon)\u001b[39m*\u001b[39mweights)\n",
      "Cell \u001b[0;32mIn[102], line 2\u001b[0m, in \u001b[0;36mIntegral\u001b[0;34m(f, x)\u001b[0m\n\u001b[1;32m      1\u001b[0m \u001b[39mdef\u001b[39;00m \u001b[39mIntegral\u001b[39m(f, x):\n\u001b[0;32m----> 2\u001b[0m     \u001b[39mreturn\u001b[39;00m (np\u001b[39m.\u001b[39mabs(f(x))\u001b[39m*\u001b[39m\u001b[39m*\u001b[39m\u001b[39m2\u001b[39m)\u001b[39m*\u001b[39m(x\u001b[39m*\u001b[39m\u001b[39m*\u001b[39m\u001b[39m2\u001b[39m)\n",
      "Cell \u001b[0;32mIn[101], line 4\u001b[0m, in \u001b[0;36mfuncion\u001b[0;34m(epsilon)\u001b[0m\n\u001b[1;32m      3\u001b[0m \u001b[39mdef\u001b[39;00m \u001b[39mfuncion\u001b[39m(epsilon):\n\u001b[0;32m----> 4\u001b[0m     \u001b[39mreturn\u001b[39;00m (\u001b[39m1\u001b[39m\u001b[39m/\u001b[39m(np\u001b[39m.\u001b[39msqrt(\u001b[39m2\u001b[39m\u001b[39m*\u001b[39m\u001b[39m*\u001b[39m\u001b[39m1\u001b[39m)))\u001b[39m*\u001b[39m(\u001b[39m1\u001b[39m\u001b[39m/\u001b[39m(np\u001b[39m.\u001b[39mpi\u001b[39m*\u001b[39m\u001b[39m*\u001b[39m(\u001b[39m1\u001b[39m\u001b[39m/\u001b[39m\u001b[39m4\u001b[39m)))\u001b[39m*\u001b[39mepsilon\u001b[39m*\u001b[39mnp\u001b[39m.\u001b[39;49mexp(\u001b[39m-\u001b[39;49m(epsilon\u001b[39m*\u001b[39;49m\u001b[39m*\u001b[39;49m\u001b[39m2\u001b[39;49m)\u001b[39m/\u001b[39;49m(\u001b[39m2\u001b[39;49m))\u001b[39m*\u001b[39m(\u001b[39m2\u001b[39m\u001b[39m*\u001b[39m(epsilon))\n",
      "\u001b[0;31mTypeError\u001b[0m: loop of ufunc does not support argument 0 of type Mul which has no callable exp method"
     ]
    }
   ],
   "source": [
    "z = 0\n",
    "weights = GetWeightsGHer(1)\n",
    "sum(Integral(funcion, epsilon)*weights)"
   ]
  }
 ],
 "metadata": {
  "kernelspec": {
   "display_name": "Python 3",
   "language": "python",
   "name": "python3"
  },
  "language_info": {
   "codemirror_mode": {
    "name": "ipython",
    "version": 3
   },
   "file_extension": ".py",
   "mimetype": "text/x-python",
   "name": "python",
   "nbconvert_exporter": "python",
   "pygments_lexer": "ipython3",
   "version": "3.9.0"
  },
  "orig_nbformat": 4,
  "vscode": {
   "interpreter": {
    "hash": "aee8b7b246df8f9039afb4144a1f6fd8d2ca17a180786b69acc140d282b71a49"
   }
  }
 },
 "nbformat": 4,
 "nbformat_minor": 2
}

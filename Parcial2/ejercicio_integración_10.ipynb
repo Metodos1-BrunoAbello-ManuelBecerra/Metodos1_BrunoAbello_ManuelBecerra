{
 "cells": [
  {
   "cell_type": "code",
   "execution_count": 58,
   "metadata": {},
   "outputs": [],
   "source": [
    "import numpy as np\n",
    "import sympy as sym"
   ]
  },
  {
   "cell_type": "code",
   "execution_count": 59,
   "metadata": {},
   "outputs": [],
   "source": [
    "n = 100\n",
    "x = np.linspace(0, 5, n)\n",
    "h = (x[-1]-x[0])/(n-1)"
   ]
  },
  {
   "cell_type": "code",
   "execution_count": 60,
   "metadata": {},
   "outputs": [],
   "source": [
    "def funcion(x, h):\n",
    "    return x * (x-h) * (x- 2*h) * (x- 3*h)"
   ]
  },
  {
   "cell_type": "code",
   "execution_count": 61,
   "metadata": {},
   "outputs": [],
   "source": [
    "def simpson_tres_octavos(funcion, x, h):\n",
    "    I = 0\n",
    "    for i in range (0, len(x)-4, 4):\n",
    "        I += funcion(x[i], h) + 3*funcion(x[i+1], h) + 3*funcion(x[i+2], h) + funcion(x[i+4], h)\n",
    "    I *= (3*h)/8\n",
    "    return I"
   ]
  },
  {
   "cell_type": "code",
   "execution_count": 62,
   "metadata": {},
   "outputs": [],
   "source": [
    "def Derivada(funcion, x, h):\n",
    "    d = funcion(x + 2*h, h) - 4*funcion(x + h, h) + 6*funcion(x, h) - 4*funcion(x - h, h) + funcion(x - 2*h, h)\n",
    "    d /= h**4\n",
    "    return d"
   ]
  },
  {
   "cell_type": "code",
   "execution_count": 63,
   "metadata": {},
   "outputs": [],
   "source": [
    "dF = []\n",
    "\n",
    "for i in range (4):\n",
    "    D = []\n",
    "    for j in range (len(x)):\n",
    "        D.append(Derivada(funcion, x[j], h))\n",
    "    dF.append(D)"
   ]
  },
  {
   "cell_type": "code",
   "execution_count": 64,
   "metadata": {},
   "outputs": [],
   "source": [
    "def Error(derivadas, h, x):\n",
    "    e = 0\n",
    "    for i in range (len(x)):\n",
    "        e += (-3)/80 * h**5 * derivadas[-1][i]\n",
    "    return e"
   ]
  },
  {
   "cell_type": "code",
   "execution_count": 65,
   "metadata": {},
   "outputs": [
    {
     "data": {
      "text/latex": [
       "$\\displaystyle \\left|{- 0.2 X^{5} + 0.0757575757575758 X^{4} - 0.00935278713056491 X^{3} + 0.000386478807048137 X^{2} + 363.951126551109}\\right|$"
      ],
      "text/plain": [
       "Abs(-0.2*X**5 + 0.0757575757575758*X**4 - 0.00935278713056491*X**3 + 0.000386478807048137*X**2 + 363.951126551109)"
      ]
     },
     "execution_count": 65,
     "metadata": {},
     "output_type": "execute_result"
    }
   ],
   "source": [
    "X = sym.Symbol('X')\n",
    "I_exacta = sym.integrate(funcion(X, h))\n",
    "Error_sympy = sym.Abs(I_exacta - simpson_tres_octavos(funcion, x, h))\n",
    "Error_sympy"
   ]
  },
  {
   "cell_type": "code",
   "execution_count": 66,
   "metadata": {},
   "outputs": [
    {
     "data": {
      "text/plain": [
       "-2.957444192622247e-05"
      ]
     },
     "execution_count": 66,
     "metadata": {},
     "output_type": "execute_result"
    }
   ],
   "source": [
    "X = Error(dF, h, x)\n",
    "X"
   ]
  },
  {
   "cell_type": "code",
   "execution_count": null,
   "metadata": {},
   "outputs": [],
   "source": [
    "#Varias cosas tienen que cambiar:\n",
    "# - ¿Cómo logramos encontrar un valor numérico para el error según sympy\n",
    "# - Verificar que el error calculado sea efectivamente calculado de esa manera(¿tal vez sería mejor presentar una lista con el valor puntp por punto?)\n",
    "# - El resto parece estar bien, pero revisarlo estaría bien."
   ]
  }
 ],
 "metadata": {
  "kernelspec": {
   "display_name": "Python 3",
   "language": "python",
   "name": "python3"
  },
  "language_info": {
   "codemirror_mode": {
    "name": "ipython",
    "version": 3
   },
   "file_extension": ".py",
   "mimetype": "text/x-python",
   "name": "python",
   "nbconvert_exporter": "python",
   "pygments_lexer": "ipython3",
   "version": "3.10.11"
  },
  "orig_nbformat": 4
 },
 "nbformat": 4,
 "nbformat_minor": 2
}

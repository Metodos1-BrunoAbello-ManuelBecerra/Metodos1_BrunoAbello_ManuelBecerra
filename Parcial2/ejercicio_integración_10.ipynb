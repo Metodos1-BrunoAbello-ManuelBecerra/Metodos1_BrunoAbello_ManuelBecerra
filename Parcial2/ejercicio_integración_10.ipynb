{
 "cells": [
  {
   "cell_type": "code",
   "execution_count": 39,
   "metadata": {},
   "outputs": [],
   "source": [
    "import numpy as np\n",
    "import sympy as sym\n",
    "from scipy import integrate"
   ]
  },
  {
   "cell_type": "code",
   "execution_count": 40,
   "metadata": {},
   "outputs": [],
   "source": [
    "n = 100\n",
    "x = np.linspace(0, 5, n)\n",
    "h = (x[-1]-x[0])/(n-1)"
   ]
  },
  {
   "cell_type": "code",
   "execution_count": 41,
   "metadata": {},
   "outputs": [],
   "source": [
    "def funcion(x, h):\n",
    "    return (x * (x-h) * (x- 2*h) * (x- 3*h))"
   ]
  },
  {
   "cell_type": "code",
   "execution_count": 42,
   "metadata": {},
   "outputs": [],
   "source": [
    "def simpson_tres_octavos(funcion, x, h):\n",
    "    I = 0\n",
    "    for i in range (0, len(x)-3, 3):\n",
    "        I += funcion(x[i], h) + 3*funcion(x[i+1], h) + 3*funcion(x[i+2], h) + funcion(x[i+3], h)\n",
    "    I *= (3*h)/8\n",
    "    return I"
   ]
  },
  {
   "cell_type": "code",
   "execution_count": 43,
   "metadata": {},
   "outputs": [],
   "source": [
    "def Derivada(funcion, x, h):\n",
    "    d = funcion(x + 2*h, h) - 4*funcion(x + h, h) + 6*funcion(x, h) - 4*funcion(x - h, h) + funcion(x - 2*h, h)\n",
    "    d /= h**4\n",
    "    return d"
   ]
  },
  {
   "cell_type": "code",
   "execution_count": 47,
   "metadata": {},
   "outputs": [],
   "source": [
    "def Error(derivadas, h, x):\n",
    "    e = (-3)/80 * h**5 * derivadas\n",
    "    return e"
   ]
  },
  {
   "cell_type": "code",
   "execution_count": 48,
   "metadata": {},
   "outputs": [
    {
     "name": "stdout",
     "output_type": "stream",
     "text": [
      "578.8109876206182 578.8109613322254\n"
     ]
    }
   ],
   "source": [
    "Ie = integrate.simpson(funcion(x, h), x)\n",
    "print(Ie, simpson_tres_octavos(funcion,x, h))"
   ]
  },
  {
   "cell_type": "code",
   "execution_count": 49,
   "metadata": {},
   "outputs": [
    {
     "name": "stdout",
     "output_type": "stream",
     "text": [
      "2.62883928598967e-5 [-2.95744419e-07 -2.95744419e-07 -2.95744419e-07 -2.95744419e-07\n",
      " -2.95744419e-07 -2.95744419e-07 -2.95744419e-07 -2.95744419e-07\n",
      " -2.95744419e-07 -2.95744419e-07 -2.95744419e-07 -2.95744419e-07\n",
      " -2.95744419e-07 -2.95744419e-07 -2.95744419e-07 -2.95744419e-07\n",
      " -2.95744419e-07 -2.95744419e-07 -2.95744419e-07 -2.95744419e-07\n",
      " -2.95744419e-07 -2.95744419e-07 -2.95744419e-07 -2.95744419e-07\n",
      " -2.95744419e-07 -2.95744419e-07 -2.95744419e-07 -2.95744419e-07\n",
      " -2.95744419e-07 -2.95744419e-07 -2.95744419e-07 -2.95744419e-07\n",
      " -2.95744419e-07 -2.95744419e-07 -2.95744419e-07 -2.95744419e-07\n",
      " -2.95744419e-07 -2.95744419e-07 -2.95744419e-07 -2.95744419e-07\n",
      " -2.95744419e-07 -2.95744419e-07 -2.95744419e-07 -2.95744419e-07\n",
      " -2.95744419e-07 -2.95744419e-07 -2.95744419e-07 -2.95744419e-07\n",
      " -2.95744419e-07 -2.95744419e-07 -2.95744419e-07 -2.95744419e-07\n",
      " -2.95744419e-07 -2.95744419e-07 -2.95744419e-07 -2.95744419e-07\n",
      " -2.95744419e-07 -2.95744419e-07 -2.95744419e-07 -2.95744419e-07\n",
      " -2.95744419e-07 -2.95744419e-07 -2.95744419e-07 -2.95744419e-07\n",
      " -2.95744419e-07 -2.95744419e-07 -2.95744419e-07 -2.95744419e-07\n",
      " -2.95744419e-07 -2.95744419e-07 -2.95744420e-07 -2.95744420e-07\n",
      " -2.95744419e-07 -2.95744419e-07 -2.95744419e-07 -2.95744419e-07\n",
      " -2.95744419e-07 -2.95744419e-07 -2.95744420e-07 -2.95744420e-07\n",
      " -2.95744420e-07 -2.95744420e-07 -2.95744419e-07 -2.95744419e-07\n",
      " -2.95744419e-07 -2.95744420e-07 -2.95744419e-07 -2.95744419e-07\n",
      " -2.95744419e-07 -2.95744419e-07 -2.95744419e-07 -2.95744420e-07\n",
      " -2.95744419e-07 -2.95744420e-07 -2.95744419e-07 -2.95744420e-07\n",
      " -2.95744418e-07 -2.95744420e-07 -2.95744419e-07 -2.95744418e-07]\n"
     ]
    }
   ],
   "source": [
    "Error_absoluto = sym.Abs(Ie-simpson_tres_octavos(funcion,x, h))\n",
    "Error_calculado = Error(Derivada(funcion, x, h), h, x)\n",
    "print(Error_absoluto, Error_calculado)"
   ]
  }
 ],
 "metadata": {
  "kernelspec": {
   "display_name": "Python 3",
   "language": "python",
   "name": "python3"
  },
  "language_info": {
   "codemirror_mode": {
    "name": "ipython",
    "version": 3
   },
   "file_extension": ".py",
   "mimetype": "text/x-python",
   "name": "python",
   "nbconvert_exporter": "python",
   "pygments_lexer": "ipython3",
   "version": "3.9.0"
  },
  "orig_nbformat": 4,
  "vscode": {
   "interpreter": {
    "hash": "aee8b7b246df8f9039afb4144a1f6fd8d2ca17a180786b69acc140d282b71a49"
   }
  }
 },
 "nbformat": 4,
 "nbformat_minor": 2
}

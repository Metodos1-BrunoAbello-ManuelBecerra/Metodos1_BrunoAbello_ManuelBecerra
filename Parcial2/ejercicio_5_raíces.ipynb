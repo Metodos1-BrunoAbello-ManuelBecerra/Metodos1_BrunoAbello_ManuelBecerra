{
 "cells": [
  {
   "cell_type": "code",
   "execution_count": 15,
   "metadata": {},
   "outputs": [],
   "source": [
    "import numpy as np\n",
    "import sympy as sym"
   ]
  },
  {
   "cell_type": "code",
   "execution_count": 16,
   "metadata": {},
   "outputs": [],
   "source": [
    "x = sym.Symbol('x',real=True)\n",
    "y = sym.Symbol('y',real=True)"
   ]
  },
  {
   "cell_type": "code",
   "execution_count": 17,
   "metadata": {},
   "outputs": [],
   "source": [
    "def GetLegendre(n,x,y):\n",
    "    y = (x**2 - 1)**n\n",
    "    \n",
    "    poly = sym.diff( y,x,n )/(2**n*np.math.factorial(n))\n",
    "    \n",
    "    return poly"
   ]
  },
  {
   "cell_type": "code",
   "execution_count": 18,
   "metadata": {},
   "outputs": [],
   "source": [
    "Legendre = []\n",
    "DLegendre = []\n",
    "\n",
    "for i in range(n+1):\n",
    "    Polinomio = GetLegendre(i,x,y)\n",
    "    Legendre.append(Polinomio)\n",
    "    DLegendre.append(sym.diff(Polinomio,x,1))"
   ]
  },
  {
   "cell_type": "code",
   "execution_count": 19,
   "metadata": {},
   "outputs": [],
   "source": [
    "def NewtonRaphson(f,df,xn,itmax=10000,precision=1e-14):\n",
    "    error = 1.\n",
    "    it = 0\n",
    "    while error >= precision and it < itmax:    \n",
    "        try:\n",
    "            xn1 = xn - f(xn)/df(xn)\n",
    "            error = np.abs(f(xn)/df(xn))\n",
    "        except ZeroDivisionError:\n",
    "            print('Zero Division')\n",
    "        xn = xn1\n",
    "        it += 1\n",
    "    if it == itmax:\n",
    "        return False\n",
    "    else:\n",
    "        return xn"
   ]
  },
  {
   "cell_type": "code",
   "execution_count": 20,
   "metadata": {},
   "outputs": [],
   "source": [
    "def GetRoots(f,df,x,tolerancia = 14):\n",
    "    Roots = np.array([])\n",
    "    for i in x:\n",
    "        root = NewtonRaphson(f,df,i)\n",
    "        if root != False:\n",
    "            croot = np.round( root, tolerancia )\n",
    "            if croot not in Roots:\n",
    "                Roots = np.append(Roots, croot)\n",
    "    Roots.sort()\n",
    "    return Roots"
   ]
  },
  {
   "cell_type": "code",
   "execution_count": 21,
   "metadata": {},
   "outputs": [],
   "source": [
    "def GetAllRoots(n,xn,Legendre,DLegendre):\n",
    "    poly = sym.lambdify([x],Legendre[n],'numpy')\n",
    "    Dpoly = sym.lambdify([x],DLegendre[n],'numpy')\n",
    "    Roots = GetRoots(poly,Dpoly,xn)\n",
    "    return Roots"
   ]
  },
  {
   "cell_type": "code",
   "execution_count": 22,
   "metadata": {},
   "outputs": [],
   "source": [
    "xn = np.linspace(-1,1,100)\n",
    "Roots1 = GetAllRoots(n,xn,Legendre,DLegendre)\n",
    "Roots2 = []\n",
    "for i in range (len(Roots1)):\n",
    "    if round(Roots1[i], 7) != round(Roots1[i-1], 7):\n",
    "        Roots2.append(Roots1[i])\n",
    "RootsReturn = np.array(Roots2)"
   ]
  },
  {
   "cell_type": "code",
   "execution_count": 23,
   "metadata": {},
   "outputs": [
    {
     "data": {
      "text/plain": [
       "array([-0.9931286 , -0.96397193, -0.91223443, -0.83911697, -0.74633191,\n",
       "       -0.63605368, -0.510867  , -0.37370609, -0.22778585, -0.07652652,\n",
       "        0.07652652,  0.22778585,  0.37370609,  0.510867  ,  0.63605368,\n",
       "        0.74633191,  0.83911697,  0.91223443,  0.96397193,  0.9931286 ])"
      ]
     },
     "execution_count": 23,
     "metadata": {},
     "output_type": "execute_result"
    }
   ],
   "source": [
    "RootsReturn"
   ]
  }
 ],
 "metadata": {
  "kernelspec": {
   "display_name": "Python 3",
   "language": "python",
   "name": "python3"
  },
  "language_info": {
   "codemirror_mode": {
    "name": "ipython",
    "version": 3
   },
   "file_extension": ".py",
   "mimetype": "text/x-python",
   "name": "python",
   "nbconvert_exporter": "python",
   "pygments_lexer": "ipython3",
   "version": "3.10.11"
  },
  "orig_nbformat": 4
 },
 "nbformat": 4,
 "nbformat_minor": 2
}

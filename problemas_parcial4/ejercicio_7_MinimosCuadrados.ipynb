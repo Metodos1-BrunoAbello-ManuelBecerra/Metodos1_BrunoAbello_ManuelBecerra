{
 "cells": [
  {
   "cell_type": "code",
   "execution_count": 45,
   "metadata": {},
   "outputs": [],
   "source": [
    "import numpy as np\n",
    "import matplotlib.pyplot as plt"
   ]
  },
  {
   "cell_type": "code",
   "execution_count": 46,
   "metadata": {},
   "outputs": [],
   "source": [
    "b = np.array([-3, -3, 8, 9])\n",
    "A = np.array([[3, 1, -1], [1, 2, 0], [0, 1, 2], [1, 1, -1]])"
   ]
  },
  {
   "cell_type": "code",
   "execution_count": 47,
   "metadata": {},
   "outputs": [
    {
     "name": "stdout",
     "output_type": "stream",
     "text": [
      "[[ 3  1 -1]\n",
      " [ 1  2  0]\n",
      " [ 0  1  2]\n",
      " [ 1  1 -1]]\n"
     ]
    }
   ],
   "source": [
    "print(A)"
   ]
  },
  {
   "cell_type": "code",
   "execution_count": 48,
   "metadata": {},
   "outputs": [
    {
     "name": "stdout",
     "output_type": "stream",
     "text": [
      "[[ 3  1  0  1]\n",
      " [ 1  2  1  1]\n",
      " [-1  0  2 -1]]\n"
     ]
    }
   ],
   "source": [
    "At = A.T\n",
    "print(At)"
   ]
  },
  {
   "cell_type": "code",
   "execution_count": 49,
   "metadata": {},
   "outputs": [
    {
     "name": "stdout",
     "output_type": "stream",
     "text": [
      "[[11  6 -4]\n",
      " [ 6  7  0]\n",
      " [-4  0  6]]\n"
     ]
    }
   ],
   "source": [
    "M = np.dot(At, A)\n",
    "print(M)"
   ]
  },
  {
   "cell_type": "code",
   "execution_count": 50,
   "metadata": {},
   "outputs": [
    {
     "data": {
      "text/plain": [
       "array([-3,  8, 10])"
      ]
     },
     "execution_count": 50,
     "metadata": {},
     "output_type": "execute_result"
    }
   ],
   "source": [
    "bt = np.dot(At,b)\n",
    "bt"
   ]
  },
  {
   "cell_type": "code",
   "execution_count": 51,
   "metadata": {},
   "outputs": [
    {
     "data": {
      "text/plain": [
       "array([-1.,  2.,  1.])"
      ]
     },
     "execution_count": 51,
     "metadata": {},
     "output_type": "execute_result"
    }
   ],
   "source": [
    "bsol = np.linalg.solve(M,bt)\n",
    "bsol"
   ]
  },
  {
   "cell_type": "code",
   "execution_count": 53,
   "metadata": {},
   "outputs": [
    {
     "data": {
      "text/plain": [
       "array([[-3.,  2., -1.],\n",
       "       [-1.,  4.,  0.],\n",
       "       [-0.,  2.,  2.],\n",
       "       [-1.,  2., -1.]])"
      ]
     },
     "execution_count": 53,
     "metadata": {},
     "output_type": "execute_result"
    }
   ],
   "source": [
    "Proyección = A*bsol\n",
    "Proyección"
   ]
  },
  {
   "cell_type": "code",
   "execution_count": 70,
   "metadata": {},
   "outputs": [
    {
     "name": "stderr",
     "output_type": "stream",
     "text": [
      "/var/folders/2q/srj5vx4s1qd28nb9mz7c36x40000gn/T/ipykernel_1372/940900206.py:7: DeprecationWarning: Calling np.sum(generator) is deprecated, and in the future will give a different result. Use np.sum(np.fromiter(generator)) or the python sum builtin instead.\n",
      "  u[i] = At[i] - np.sum(np.dot(At[i], u[j]) / np.dot(u[j], u[j]) * u[j] for j in range(i))\n"
     ]
    },
    {
     "data": {
      "text/plain": [
       "(array([[3, 0, 0],\n",
       "        [1, 1, 0],\n",
       "        [0, 1, 1],\n",
       "        [1, 0, 0]]),\n",
       " array([[3, 1, 0, 1],\n",
       "        [0, 1, 1, 0],\n",
       "        [0, 0, 1, 0]]))"
      ]
     },
     "execution_count": 70,
     "metadata": {},
     "output_type": "execute_result"
    }
   ],
   "source": [
    "v0 = At[0]\n",
    "v1 = At[1]\n",
    "v2 = At[2]\n",
    "u = np.zeros_like(At)\n",
    "u[0] = At[0]  # El primer vector permanece igual\n",
    "for i in range(1, At.shape[0]):\n",
    "    u[i] = At[i] - np.sum(np.dot(At[i], u[j]) / np.dot(u[j], u[j]) * u[j] for j in range(i))\n",
    "\n",
    "OB = u.T\n",
    "Vect = OB.T\n",
    "OB, Vect"
   ]
  },
  {
   "cell_type": "code",
   "execution_count": 71,
   "metadata": {},
   "outputs": [
    {
     "data": {
      "text/plain": [
       "array([-3.,  5.,  8.])"
      ]
     },
     "execution_count": 71,
     "metadata": {},
     "output_type": "execute_result"
    }
   ],
   "source": [
    "c = np.zeros(len(Vect))\n",
    "for i in range(len(Vect)):\n",
    "    c[i] = np.dot(b, Vect[i])\n",
    "P = 0\n",
    "for i in range(len(c)):\n",
    "    P += i*Vect[i]\n",
    "P"
   ]
  }
 ],
 "metadata": {
  "kernelspec": {
   "display_name": "Python 3",
   "language": "python",
   "name": "python3"
  },
  "language_info": {
   "codemirror_mode": {
    "name": "ipython",
    "version": 3
   },
   "file_extension": ".py",
   "mimetype": "text/x-python",
   "name": "python",
   "nbconvert_exporter": "python",
   "pygments_lexer": "ipython3",
   "version": "3.9.0"
  },
  "orig_nbformat": 4,
  "vscode": {
   "interpreter": {
    "hash": "aee8b7b246df8f9039afb4144a1f6fd8d2ca17a180786b69acc140d282b71a49"
   }
  }
 },
 "nbformat": 4,
 "nbformat_minor": 2
}

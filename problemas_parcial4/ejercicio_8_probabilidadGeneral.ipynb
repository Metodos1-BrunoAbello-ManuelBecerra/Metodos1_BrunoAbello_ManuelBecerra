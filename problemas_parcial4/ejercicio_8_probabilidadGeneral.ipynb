{
 "cells": [
  {
   "cell_type": "code",
   "execution_count": 24,
   "metadata": {},
   "outputs": [],
   "source": [
    "import numpy as np"
   ]
  },
  {
   "cell_type": "code",
   "execution_count": 25,
   "metadata": {},
   "outputs": [
    {
     "data": {
      "text/plain": [
       "(0.37604, 0.375)"
      ]
     },
     "execution_count": 25,
     "metadata": {},
     "output_type": "execute_result"
    }
   ],
   "source": [
    "n = 0\n",
    "N = 10**5\n",
    "M1 = np.array([-1, 1])\n",
    "for i in range(N):\n",
    "    L = []\n",
    "    L.append(np.random.choice(M1))\n",
    "    L.append(np.random.choice(M1))\n",
    "    L.append(np.random.choice(M1))\n",
    "    L.append(np.random.choice(M1))\n",
    "    E = L.count(-1)\n",
    "    F = L.count(1)\n",
    "    if E == F:\n",
    "        n += 1\n",
    "P = n/N\n",
    "P, 3/8"
   ]
  }
 ],
 "metadata": {
  "kernelspec": {
   "display_name": "Python 3",
   "language": "python",
   "name": "python3"
  },
  "language_info": {
   "codemirror_mode": {
    "name": "ipython",
    "version": 3
   },
   "file_extension": ".py",
   "mimetype": "text/x-python",
   "name": "python",
   "nbconvert_exporter": "python",
   "pygments_lexer": "ipython3",
   "version": "3.10.11"
  }
 },
 "nbformat": 4,
 "nbformat_minor": 2
}

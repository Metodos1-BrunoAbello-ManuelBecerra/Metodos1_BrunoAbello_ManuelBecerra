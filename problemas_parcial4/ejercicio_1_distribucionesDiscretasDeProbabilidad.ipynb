{
 "cells": [
  {
   "cell_type": "code",
   "execution_count": 1,
   "metadata": {},
   "outputs": [],
   "source": [
    "import numpy as np"
   ]
  },
  {
   "cell_type": "markdown",
   "metadata": {},
   "source": [
    "Cuando se lanza un dado, hay seis resultados posibles: 1, 2, 3, 4, 5 y 6. Asumiendo un dado no trucado, cada resultado tiene la misma probabilidad: 1/6. "
   ]
  },
  {
   "cell_type": "markdown",
   "metadata": {},
   "source": [
    "Para calcular un valor esperado, calculamos es un promedio ponderado de los posibles resultados del experimento. Es decir, multiplicamos la probabilidad de un evento con su resultado posible. "
   ]
  },
  {
   "cell_type": "markdown",
   "metadata": {},
   "source": [
    "En nuestro caso, obtenemos lo siguiente:"
   ]
  },
  {
   "cell_type": "code",
   "execution_count": 3,
   "metadata": {},
   "outputs": [
    {
     "data": {
      "text/plain": [
       "3.5"
      ]
     },
     "execution_count": 3,
     "metadata": {},
     "output_type": "execute_result"
    }
   ],
   "source": [
    "Probabilidad = 1/6\n",
    "Resultados = np.linspace(1, 6, 6)\n",
    "ValorEsperado = 0\n",
    "for i in Resultados:\n",
    "    ValorEsperado += i*Probabilidad\n",
    "ValorEsperado"
   ]
  }
 ],
 "metadata": {
  "kernelspec": {
   "display_name": "Python 3",
   "language": "python",
   "name": "python3"
  },
  "language_info": {
   "codemirror_mode": {
    "name": "ipython",
    "version": 3
   },
   "file_extension": ".py",
   "mimetype": "text/x-python",
   "name": "python",
   "nbconvert_exporter": "python",
   "pygments_lexer": "ipython3",
   "version": "3.10.11"
  }
 },
 "nbformat": 4,
 "nbformat_minor": 2
}

{
 "cells": [
  {
   "cell_type": "code",
   "execution_count": null,
   "metadata": {},
   "outputs": [],
   "source": [
    "import numpy as np\n",
    "import matplotlib.pyplot as plt\n",
    "import scipy.optimize as spo"
   ]
  },
  {
   "cell_type": "code",
   "execution_count": null,
   "metadata": {},
   "outputs": [],
   "source": [
    "def V(x, y, z):\n",
    "    return x*y*z"
   ]
  },
  {
   "attachments": {},
   "cell_type": "markdown",
   "metadata": {},
   "source": [
    "El volumen de la caja siendo x * y * z, podemos ver que los lados de la caja son:\n",
    "Lado 1: x\n",
    "Lado 2: y\n",
    "Lado 3: z\n",
    "Por lo tanto:\n",
    "Dos caras de la caja tiene área x*y(ancho por alto)\n",
    "Dos caras de la caja tienen área y*z(alto por largo)\n",
    "Una cara, la inferior, tienen área x*z(ancho por largo)\n",
    "El área total es entonces 2*x*y + 2*y*z + x*z.\n",
    "Sabiendo que tiene que ser de 12 cm cuadrados, encontramos que:\n",
    "12 = 2*x*y + 2*y*z + x*z."
   ]
  },
  {
   "cell_type": "code",
   "execution_count": null,
   "metadata": {},
   "outputs": [],
   "source": [
    "def A(p):\n",
    "    return 2*p[0]*p[1] + 2*p[1]*p[2] + p[0]*p[2] - 12"
   ]
  },
  {
   "cell_type": "code",
   "execution_count": null,
   "metadata": {},
   "outputs": [],
   "source": []
  }
 ],
 "metadata": {
  "kernelspec": {
   "display_name": "Python 3",
   "language": "python",
   "name": "python3"
  },
  "language_info": {
   "name": "python",
   "version": "3.9.0"
  },
  "orig_nbformat": 4,
  "vscode": {
   "interpreter": {
    "hash": "aee8b7b246df8f9039afb4144a1f6fd8d2ca17a180786b69acc140d282b71a49"
   }
  }
 },
 "nbformat": 4,
 "nbformat_minor": 2
}

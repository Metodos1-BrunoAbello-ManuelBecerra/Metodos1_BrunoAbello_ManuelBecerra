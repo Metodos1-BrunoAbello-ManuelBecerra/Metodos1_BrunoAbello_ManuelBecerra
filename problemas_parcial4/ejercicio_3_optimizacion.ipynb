{
 "cells": [
  {
   "cell_type": "code",
   "execution_count": 1,
   "metadata": {},
   "outputs": [],
   "source": [
    "import numpy as np\n",
    "import matplotlib.pyplot as plt\n",
    "import scipy.optimize as spo"
   ]
  },
  {
   "cell_type": "code",
   "execution_count": 2,
   "metadata": {},
   "outputs": [],
   "source": [
    "def V(p):\n",
    "    return -p[0] * p[1] * p[2]"
   ]
  },
  {
   "attachments": {},
   "cell_type": "markdown",
   "metadata": {},
   "source": [
    "El volumen de la caja siendo x * y * z, podemos ver que los lados de la caja son:\n",
    "Lado 1: x\n",
    "Lado 2: y\n",
    "Lado 3: z\n",
    "Por lo tanto:\n",
    "Dos caras de la caja tiene área x*z(ancho por alto)\n",
    "Dos caras de la caja tienen área y*z(alto por largo)\n",
    "Una cara, la inferior, tienen área x*y(ancho por largo)\n",
    "El área total es entonces 2*x*z + 2*y*z + x*y.\n",
    "Sabiendo que tiene que ser de 12 cm cuadrados, encontramos que:\n",
    "12 = 2*x*z + 2*y*z + x*y."
   ]
  },
  {
   "cell_type": "code",
   "execution_count": 3,
   "metadata": {},
   "outputs": [
    {
     "data": {
      "text/plain": [
       " message: Optimization terminated successfully\n",
       " success: True\n",
       "  status: 0\n",
       "     fun: -3.9999999999999707\n",
       "       x: [ 2.000e+00  2.000e+00  1.000e+00]\n",
       "     nit: 38\n",
       "     jac: [-2.000e+00 -2.000e+00 -4.000e+00]\n",
       "    nfev: 189\n",
       "    njev: 38"
      ]
     },
     "execution_count": 3,
     "metadata": {},
     "output_type": "execute_result"
    }
   ],
   "source": [
    "bounds = ( (1,100),(1,100) )\n",
    "\n",
    "constraints = ( {'type':'eq','fun': lambda p: (2*p[0]*p[2]) + (2*p[1]*p[2]) + (p[0]*p[1]) - 12} )\n",
    "\n",
    "p0 = [1,1,1]\n",
    "result = spo.minimize( V, p0, constraints = constraints )\n",
    "result"
   ]
  },
  {
   "cell_type": "code",
   "execution_count": 4,
   "metadata": {},
   "outputs": [
    {
     "data": {
      "text/plain": [
       "3.9999999999999707"
      ]
     },
     "execution_count": 4,
     "metadata": {},
     "output_type": "execute_result"
    }
   ],
   "source": [
    "x = result.x\n",
    "x[0] * x[1] * x[2]"
   ]
  }
 ],
 "metadata": {
  "kernelspec": {
   "display_name": "Python 3",
   "language": "python",
   "name": "python3"
  },
  "language_info": {
   "codemirror_mode": {
    "name": "ipython",
    "version": 3
   },
   "file_extension": ".py",
   "mimetype": "text/x-python",
   "name": "python",
   "nbconvert_exporter": "python",
   "pygments_lexer": "ipython3",
   "version": "3.9.0"
  },
  "orig_nbformat": 4,
  "vscode": {
   "interpreter": {
    "hash": "aee8b7b246df8f9039afb4144a1f6fd8d2ca17a180786b69acc140d282b71a49"
   }
  }
 },
 "nbformat": 4,
 "nbformat_minor": 2
}
